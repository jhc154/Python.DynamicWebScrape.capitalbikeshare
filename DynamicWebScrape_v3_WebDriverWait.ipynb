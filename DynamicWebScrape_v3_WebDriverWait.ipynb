{
 "cells": [
  {
   "cell_type": "code",
   "execution_count": null,
   "metadata": {},
   "outputs": [],
   "source": [
    "from selenium import webdriver\n",
    "from selenium.webdriver.common.by import By\n",
    "from selenium.webdriver.support.ui import WebDriverWait\n",
    "from selenium.webdriver.support import expected_conditions as EC\n",
    "\n",
    "from bs4 import BeautifulSoup\n",
    "from zipfile import ZipFile\n",
    "from io import BytesIO\n",
    "\n",
    "import requests\n",
    "import pandas as pd\n",
    "import re"
   ]
  },
  {
   "cell_type": "code",
   "execution_count": null,
   "metadata": {},
   "outputs": [],
   "source": [
    "#define 'sourceURL' as the target page that contains the list of zipped csv files\n",
    "sourceURL = \"https://s3.amazonaws.com/capitalbikeshare-data/index.html\"\n",
    "\n",
    "#call chrome webdriver from a local source as 'driver'\n",
    "#requires chrome driver from https://sites.google.com/a/chromium.org/chromedriver/downloads\n",
    "#Must change path to location of your chrome driver\n",
    "driver = webdriver.Chrome('/Users/cheese/lData/chromedriver')  \n",
    "\n",
    "#use webdriver to call the URL\n",
    "#Target URL launches in Chrome browser controlled by automated test software\n",
    "driver.get(sourceURL)\n",
    "\n",
    "#use WebDriverWait to make sure the page loads before moving on, check by table visibility\n",
    "wait = WebDriverWait(driver, 10)\n",
    "element = wait.until(EC.visibility_of_all_elements_located((By.CLASS_NAME, \"table\")))\n",
    "#ref1: https://github.com/SeleniumHQ/selenium/blob/master/py/test/selenium/webdriver/common/webdriverwait_tests.py\n",
    "#ref2: https://selenium-python.readthedocs.io/api.html\n",
    "\n",
    "#pass page to beautiful soupe as 'soup'\n",
    "soup = BeautifulSoup(driver.page_source, 'lxml')\n",
    "\n",
    "#scrape links from beautiful soup in 'links'\n",
    "links = []\n",
    "\n",
    "for link in soup.findAll('a', attrs={'href': re.compile(\"https://\")}):\n",
    "        links.append(link.get('href'))\n",
    "        \n",
    "#confirm by viewing all entires in the 'link' array\n",
    "print(links)"
   ]
  },
  {
   "cell_type": "code",
   "execution_count": null,
   "metadata": {},
   "outputs": [],
   "source": [
    "df = pd.DataFrame() #create a new dataframe as 'df' that will contain all rows from all csv extractions\n",
    "\n",
    "for fileURL in links: #iterate over each stored URL in the 'link' array\n",
    "    if fileURL.endswith('.zip'): #Only process URLs ending in .zip to skip scraped links such as index.html\n",
    "        content = requests.get(fileURL) #use requests.get to store each URL's content as 'content'\n",
    "        zf = ZipFile(BytesIO(content.content)) #use ZipFile to open and read zip data directly with BytesIO\n",
    "    #Use the zip file name to identify only the csv files for extraction that match the zip file name   \n",
    "        for item in zf.namelist():\n",
    "            print(\"File in zip: \"+ item)\n",
    "            #printing Filematch index to troubleshoot index out of range issue\n",
    "            print(\"Filematch index: \" + fileMatch)\n",
    "        fileMatch = [s for s in zf.namelist() if \".csv\" in s][0]\n",
    "        \n",
    "        #for the current iteration where the csv file name matches, extract csv from zip, and read into a dataframe 'df_n'\n",
    "        df_n = pd.read_csv(zf.open(fileMatch), low_memory=False) #df_n will be overwritten with each iteration\n",
    "        df = df.append(df_n) #Append each new iteration's dataframe from 'df_n' to 'df'\n",
    "#all file names should display in the order that they are processed"
   ]
  },
  {
   "cell_type": "code",
   "execution_count": null,
   "metadata": {
    "scrolled": false
   },
   "outputs": [],
   "source": [
    "#print the dataframe 'df' that contains all data from Cap Bike Share\n",
    "df"
   ]
  }
 ],
 "metadata": {
  "kernelspec": {
   "display_name": "Python 3",
   "language": "python",
   "name": "python3"
  },
  "language_info": {
   "codemirror_mode": {
    "name": "ipython",
    "version": 3
   },
   "file_extension": ".py",
   "mimetype": "text/x-python",
   "name": "python",
   "nbconvert_exporter": "python",
   "pygments_lexer": "ipython3",
   "version": "3.7.3"
  }
 },
 "nbformat": 4,
 "nbformat_minor": 2
}
